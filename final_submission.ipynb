{
 "cells": [
  {
   "cell_type": "markdown",
   "id": "08ba3490",
   "metadata": {},
   "source": []
  }
 ],
 "metadata": {
  "language_info": {
   "name": "python"
  }
 },
 "nbformat": 4,
 "nbformat_minor": 5
}
