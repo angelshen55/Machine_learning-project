{
 "cells": [
  {
   "cell_type": "code",
   "execution_count": 4,
   "id": "c4638496",
   "metadata": {},
   "outputs": [
    {
     "name": "stdout",
     "output_type": "stream",
     "text": [
      "Collecting opencv-python\n",
      "  Downloading opencv_python-4.11.0.86-cp37-abi3-win_amd64.whl.metadata (20 kB)\n",
      "Requirement already satisfied: numpy>=1.17.0 in c:\\users\\angel\\.conda\\envs\\pytorch\\lib\\site-packages (from opencv-python) (1.24.3)\n",
      "Downloading opencv_python-4.11.0.86-cp37-abi3-win_amd64.whl (39.5 MB)\n",
      "   ---------------------------------------- 0.0/39.5 MB ? eta -:--:--\n",
      "   ---------------------------------------- 0.3/39.5 MB ? eta -:--:--\n",
      "   - -------------------------------------- 1.6/39.5 MB 5.6 MB/s eta 0:00:07\n",
      "   ---- ----------------------------------- 4.2/39.5 MB 9.0 MB/s eta 0:00:04\n",
      "   ------- -------------------------------- 7.6/39.5 MB 11.2 MB/s eta 0:00:03\n",
      "   ------------ --------------------------- 12.1/39.5 MB 13.7 MB/s eta 0:00:02\n",
      "   ----------------- ---------------------- 17.3/39.5 MB 15.8 MB/s eta 0:00:02\n",
      "   ---------------------- ----------------- 22.0/39.5 MB 17.0 MB/s eta 0:00:02\n",
      "   --------------------------- ------------ 27.0/39.5 MB 18.0 MB/s eta 0:00:01\n",
      "   ------------------------------ --------- 29.6/39.5 MB 18.4 MB/s eta 0:00:01\n",
      "   ---------------------------------- ----- 34.3/39.5 MB 17.9 MB/s eta 0:00:01\n",
      "   ------------------------------------- -- 37.2/39.5 MB 18.2 MB/s eta 0:00:01\n",
      "   ---------------------------------------- 39.5/39.5 MB 17.0 MB/s eta 0:00:00\n",
      "Installing collected packages: opencv-python\n",
      "Successfully installed opencv-python-4.11.0.86\n",
      "Note: you may need to restart the kernel to use updated packages.\n"
     ]
    }
   ],
   "source": [
    "pip install opencv-python"
   ]
  },
  {
   "cell_type": "code",
   "execution_count": 1,
   "id": "4a20efa8",
   "metadata": {},
   "outputs": [
    {
     "ename": "ModuleNotFoundError",
     "evalue": "No module named 'cv2'",
     "output_type": "error",
     "traceback": [
      "\u001b[1;31m---------------------------------------------------------------------------\u001b[0m",
      "\u001b[1;31mModuleNotFoundError\u001b[0m                       Traceback (most recent call last)",
      "Cell \u001b[1;32mIn[1], line 2\u001b[0m\n\u001b[0;32m      1\u001b[0m \u001b[38;5;66;03m#merge three .png pictures into one\u001b[39;00m\n\u001b[1;32m----> 2\u001b[0m \u001b[38;5;28;01mimport\u001b[39;00m \u001b[38;5;21;01mcv2\u001b[39;00m\n\u001b[0;32m      3\u001b[0m \u001b[38;5;28;01mimport\u001b[39;00m \u001b[38;5;21;01mnumpy\u001b[39;00m \u001b[38;5;28;01mas\u001b[39;00m \u001b[38;5;21;01mnp\u001b[39;00m\n\u001b[0;32m      5\u001b[0m img1 \u001b[38;5;241m=\u001b[39m cv2\u001b[38;5;241m.\u001b[39mimread(\u001b[38;5;124m'\u001b[39m\u001b[38;5;124mlog_1.png\u001b[39m\u001b[38;5;124m'\u001b[39m)\n",
      "\u001b[1;31mModuleNotFoundError\u001b[0m: No module named 'cv2'"
     ]
    }
   ],
   "source": [
    "#merge three .png pictures into one\n",
    "import cv2\n",
    "import numpy as np\n",
    "\n",
    "img1 = cv2.imread('log_1.png')\n",
    "img2 = cv2.imread('log_2.png')\n",
    "img3 = cv2.imread('log+3.png')\n",
    "\n",
    "# create a new image with the size of the first image\n",
    "height, width, channels = img1.shape\n",
    "new_img = np.zeros((height, width, channels), np.uint8)\n",
    "\n",
    "# merge the three images\n",
    "new_img[0:height, 0:width] = img1\n",
    "new_img[0:height, width:2*width] = img2\n",
    "new_img[height:2*height, 0:width] = img3\n",
    "\n",
    "\n",
    "cv2.imwrite('merged.png', new_img)\n",
    "cv2.imshow('merged', new_img)"
   ]
  }
 ],
 "metadata": {
  "kernelspec": {
   "display_name": "pytorch",
   "language": "python",
   "name": "python3"
  },
  "language_info": {
   "codemirror_mode": {
    "name": "ipython",
    "version": 3
   },
   "file_extension": ".py",
   "mimetype": "text/x-python",
   "name": "python",
   "nbconvert_exporter": "python",
   "pygments_lexer": "ipython3",
   "version": "3.8.20"
  }
 },
 "nbformat": 4,
 "nbformat_minor": 5
}
